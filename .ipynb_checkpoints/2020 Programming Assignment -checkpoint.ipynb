{
 "cells": [
  {
   "cell_type": "markdown",
   "metadata": {},
   "source": [
    "# Programming for Data Analysis\n",
    "# Assignment 2020       ????Issues with images"
   ]
  },
  {
   "cell_type": "markdown",
   "metadata": {},
   "source": [
    "## ***Purpose of numpy.random Package***\n",
    "<p align=\"justify\"> Numpy is a data maniputaltion library for the python programming language, the tools of numpy operate on arrays of numbers. numpy.random is used for the generation of random numbers and integers and is important for data science, statistics and machine learning. When ever you want to generate an array of random numbers you need to use numpy.random. The numpy.random package has multiple functions to generate the random n-dimensional array for various distributions. This package help to clean up your data and organise it into an efficeint work flow.</p>"
   ]
  },
  {
   "cell_type": "markdown",
   "metadata": {},
   "source": [
    "## ***Use of Simple Random Data Function***"
   ]
  },
  {
   "cell_type": "markdown",
   "metadata": {},
   "source": [
    "There are tex simple random data function which can be seen from the image below.\n",
    "![SimpleRandomData.jpg](\"http://localhost:8888/view/SimpleRandomData.JPG\")\n",
    "These are simple functions that will return random numbers or integers when given a defined attribute such as size or shape.  I will look at the integer function, choice function and bytes function  in the simple category."
   ]
  },
  {
   "cell_type": "markdown",
   "metadata": {},
   "source": [
    "The random integers function returns random integers from low (inclusive) to high (exclusive) \n"
   ]
  },
  {
   "cell_type": "code",
   "execution_count": 1,
   "metadata": {},
   "outputs": [
    {
     "data": {
      "text/plain": [
       "array([1, 1, 0, 1, 0, 1, 0, 0, 1, 1], dtype=int64)"
      ]
     },
     "execution_count": 1,
     "metadata": {},
     "output_type": "execute_result"
    }
   ],
   "source": [
    "import numpy as np\n",
    "rng = np.random.default_rng()\n",
    "rng.integers(2, size =10)"
   ]
  },
  {
   "cell_type": "code",
   "execution_count": 2,
   "metadata": {},
   "outputs": [
    {
     "data": {
      "text/plain": [
       "array([[1, 3, 3, 3],\n",
       "       [3, 2, 3, 4]], dtype=int64)"
      ]
     },
     "execution_count": 2,
     "metadata": {},
     "output_type": "execute_result"
    }
   ],
   "source": [
    "rng.integers(5, size=(2,4))"
   ]
  },
  {
   "cell_type": "markdown",
   "metadata": {},
   "source": [
    "Below is the bytes function this gives random bytes when the length is requested.  You can see what is returned for when the lengty is set to 20 and 100 below."
   ]
  },
  {
   "cell_type": "code",
   "execution_count": 3,
   "metadata": {},
   "outputs": [
    {
     "data": {
      "text/plain": [
       "b'_\\x82\\xc2\\xd9\\xcf\\xeb\\x0f\\xa3!\\xd7\\xd9\\x82\\xf8\\xbd\\x10E\\xb8\\xe8\\xcdN'"
      ]
     },
     "execution_count": 3,
     "metadata": {},
     "output_type": "execute_result"
    }
   ],
   "source": [
    "np.random.default_rng(0).bytes(20)"
   ]
  },
  {
   "cell_type": "code",
   "execution_count": 4,
   "metadata": {},
   "outputs": [
    {
     "data": {
      "text/plain": [
       "b\"_\\x82\\xc2\\xd9\\xcf\\xeb\\x0f\\xa3!\\xd7\\xd9\\x82\\xf8\\xbd\\x10E\\xb8\\xe8\\xcdN\\xa9=}\\n\\x1d\\xf0B\\x13\\xb6';\\x04;Q\\xde,xz2\\xd0N\\x1c@\\xa6yY\\xaa\\xe9\\x7f\\xb2\\xed\\x80q{L\\x9bE\\x9a\\x82\\xf8_I\\xc0\\xba\\xbf\\x7f\\xdc\\xa1\\xe7\\x01+\\x8b\\xed\\xbfV\\x8f\\x07\\xe8`\\xefL7\\x00GM\\xc7\\xdb\\xd0\\xb0\\x90\\xbe\\xabhx\\xb3\\x00\\xf0\\xf5\\xe6d\""
      ]
     },
     "execution_count": 4,
     "metadata": {},
     "output_type": "execute_result"
    }
   ],
   "source": [
    "np.random.default_rng(0).bytes(100)"
   ]
  },
  {
   "cell_type": "markdown",
   "metadata": {},
   "source": [
    "## ***Use of Permutations Functions***"
   ]
  },
  {
   "cell_type": "markdown",
   "metadata": {},
   "source": [
    "There are Two permutation functions in the numpy.random package.\n",
    "[shuffle(x)](https://numpy.org/doc/stable/reference/random/generated/numpy.random.Generator.shuffle.html#numpy.random.Generator.shuffle)\n",
    "Modify a sequence in-place by shuffling its contents.\n",
    "\n",
    "[permutation(x)](https://numpy.org/doc/stable/reference/random/generated/numpy.random.Generator.permutation.html#numpy.random.Generator.permutation) randomly permutate a sequence, or return a permuted range. \n",
    "\n",
    "Shuffle(x) this will give you random integers given the defined x (50 below) in a random order as shown in the below code.  This function will change the order of the array but the contents will remain the same each time it is run. "
   ]
  },
  {
   "cell_type": "code",
   "execution_count": 5,
   "metadata": {},
   "outputs": [
    {
     "data": {
      "text/plain": [
       "array([48, 30, 15, 23, 40,  1, 43,  6,  2, 32,  8,  4,  5, 27, 42, 41, 47,\n",
       "       10, 18, 19, 38, 14, 36, 49, 20, 45,  0, 46, 35, 13, 28, 22, 34, 37,\n",
       "       25, 44, 26, 21,  9, 12, 33, 17, 31, 16, 24, 29, 11, 39,  7,  3])"
      ]
     },
     "execution_count": 5,
     "metadata": {},
     "output_type": "execute_result"
    }
   ],
   "source": [
    "import numpy as np\n",
    "rng = np.random.default_rng()\n",
    "arr = np.arange(50)\n",
    "rng.shuffle (arr)\n",
    "arr"
   ]
  },
  {
   "cell_type": "markdown",
   "metadata": {},
   "source": [
    "In this example I have asked for 15 random integres reshaped to 3 rows of 5."
   ]
  },
  {
   "cell_type": "code",
   "execution_count": 6,
   "metadata": {},
   "outputs": [
    {
     "data": {
      "text/plain": [
       "array([[ 5,  6,  7,  8,  9],\n",
       "       [10, 11, 12, 13, 14],\n",
       "       [ 0,  1,  2,  3,  4]])"
      ]
     },
     "execution_count": 6,
     "metadata": {},
     "output_type": "execute_result"
    }
   ],
   "source": [
    "arr = np.arange(15).reshape((3,5))\n",
    "rng.shuffle(arr)\n",
    "arr"
   ]
  },
  {
   "cell_type": "markdown",
   "metadata": {},
   "source": [
    "Permutation(x) randomly returns a sequence in the first example X is ten and it returns an array of 1 to 10 integers in a random order.  In the second example x is 100 and I have reshaped the structure of the array rather than a singel string it is arranced as five rows with 20 integers in each row. "
   ]
  },
  {
   "cell_type": "code",
   "execution_count": 7,
   "metadata": {},
   "outputs": [
    {
     "data": {
      "text/plain": [
       "array([4, 1, 5, 6, 8, 9, 0, 2, 7, 3])"
      ]
     },
     "execution_count": 7,
     "metadata": {},
     "output_type": "execute_result"
    }
   ],
   "source": [
    "arr=np.random.default_rng()\n",
    "rng.permutation(10)"
   ]
  },
  {
   "cell_type": "code",
   "execution_count": 8,
   "metadata": {},
   "outputs": [
    {
     "data": {
      "text/plain": [
       "array([[40, 41, 42, 43, 44, 45, 46, 47, 48, 49, 50, 51, 52, 53, 54, 55,\n",
       "        56, 57, 58, 59],\n",
       "       [20, 21, 22, 23, 24, 25, 26, 27, 28, 29, 30, 31, 32, 33, 34, 35,\n",
       "        36, 37, 38, 39],\n",
       "       [60, 61, 62, 63, 64, 65, 66, 67, 68, 69, 70, 71, 72, 73, 74, 75,\n",
       "        76, 77, 78, 79],\n",
       "       [ 0,  1,  2,  3,  4,  5,  6,  7,  8,  9, 10, 11, 12, 13, 14, 15,\n",
       "        16, 17, 18, 19],\n",
       "       [80, 81, 82, 83, 84, 85, 86, 87, 88, 89, 90, 91, 92, 93, 94, 95,\n",
       "        96, 97, 98, 99]])"
      ]
     },
     "execution_count": 8,
     "metadata": {},
     "output_type": "execute_result"
    }
   ],
   "source": [
    "arr=np.arange(100).reshape((5,20))\n",
    "rng.permutation(arr)"
   ]
  },
  {
   "cell_type": "markdown",
   "metadata": {},
   "source": [
    "## ***Use and Purpose of Distribution Functions***\n",
    "In total there are 36 distribution functionsin the numpy.random package. ![Distributions.PNG](image/Distributions.PNG) I will explain the used an purpose of the followign five Distribution functions.\n",
    "1. **lognormal**\n",
    "2. **multinomial**\n",
    "3. **multivariate_normal**\n",
    "4. **noncentral_f**\n",
    "5. **uniform**"
   ]
  },
  {
   "cell_type": "markdown",
   "metadata": {},
   "source": [
    "### 1. lognormal\n",
    "*\"Draw samples from a log-normal distribution with specified mean, standard deviation, and array shape.  Note that the mean and standard deviation are not the values for the distribution itself, but of the underlying normal distribution it is derived from.\"*\n",
    "The fisrt 3 lines of this function is drawing samples from the distribution and the second part is displaying a histogram of the samples along witht he probability density function. The line colour and width can be changed for the histogram"
   ]
  },
  {
   "cell_type": "code",
   "execution_count": 9,
   "metadata": {},
   "outputs": [
    {
     "data": {
      "image/png": "[encoded data removed]",
      "text/plain": [
       "<Figure size 432x288 with 1 Axes>"
      ]
     },
     "metadata": {
      "needs_background": "light"
     },
     "output_type": "display_data"
    }
   ],
   "source": [
    "    rng = np.random.default_rng()\n",
    "mu, sigma = 3., 1. # mean and standard deviation\n",
    "s = rng.lognormal(mu, sigma, 1000)\n",
    "\n",
    "import matplotlib.pyplot as plt\n",
    "count, bins, ignored = plt.hist(s, 100, density=True, align='mid')\n",
    "\n",
    "x = np.linspace(min(bins), max(bins), 10000)\n",
    "pdf = (np.exp(-(np.log(x) - mu)**2 / (2 * sigma**2))\n",
    "       / (x * sigma * np.sqrt(2 * np.pi)))\n",
    "\n",
    "plt.plot(x, pdf, linewidth=2, color='g')\n",
    "plt.axis('tight')\n",
    "plt.show()"
   ]
  },
  {
   "cell_type": "markdown",
   "metadata": {},
   "source": [
    "### 2. multinomial ###\n",
    "\"*A multinomial distribution is the probability distribution of the outcomes from a multinomial experiment.\" This function is similar to throwing a dice. When ran this function will tell you how many times the dice landed on each number of the dice for in this case 20 throws. The next example shows the results of 100 throws repeated three times. The 20 and 100 in multinomial represent the number of experiments, the next piece for the dice is the possibility of the outcomes, in this case 1 in 6 and the next part size is the shape of the outcome. \"With a multinomial experiment, each trial can have two or more possible outcomes.*\""
   ]
  },
  {
   "cell_type": "code",
   "execution_count": 10,
   "metadata": {},
   "outputs": [
    {
     "data": {
      "text/plain": [
       "array([[4, 2, 1, 3, 6, 4]], dtype=int64)"
      ]
     },
     "execution_count": 10,
     "metadata": {},
     "output_type": "execute_result"
    }
   ],
   "source": [
    "rng = np.random.default_rng()\n",
    "rng.multinomial(20,[1/6.]*6, size=1)"
   ]
  },
  {
   "cell_type": "code",
   "execution_count": 11,
   "metadata": {},
   "outputs": [
    {
     "data": {
      "text/plain": [
       "array([[16, 25, 18, 11, 15, 15],\n",
       "       [16, 15, 15, 17, 18, 19],\n",
       "       [11, 24, 14, 17, 19, 15]])"
      ]
     },
     "execution_count": 11,
     "metadata": {},
     "output_type": "execute_result"
    }
   ],
   "source": [
    "np.random.multinomial(100,[1/6.]*6, size =3)"
   ]
  },
  {
   "cell_type": "markdown",
   "metadata": {},
   "source": [
    "### 3. multivariate_normal###"
   ]
  },
  {
   "cell_type": "code",
   "execution_count": null,
   "metadata": {},
   "outputs": [],
   "source": []
  }
 ],
 "metadata": {
  "kernelspec": {
   "display_name": "Python 3",
   "language": "python",
   "name": "python3"
  },
  "language_info": {
   "codemirror_mode": {
    "name": "ipython",
    "version": 3
   },
   "file_extension": ".py",
   "mimetype": "text/x-python",
   "name": "python",
   "nbconvert_exporter": "python",
   "pygments_lexer": "ipython3",
   "version": "3.7.7"
  }
 },
 "nbformat": 4,
 "nbformat_minor": 4
}
