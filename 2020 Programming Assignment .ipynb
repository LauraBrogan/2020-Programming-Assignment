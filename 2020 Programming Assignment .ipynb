{
 "cells": [
  {
   "cell_type": "markdown",
   "metadata": {},
   "source": [
    "# Programming for Data Analysis\n",
    "# Assignment 2020"
   ]
  },
  {
   "cell_type": "markdown",
   "metadata": {},
   "source": [
    "## ***Purpose of numpy.random Package***\n",
    "<p align=\"justify\"> Numpy is a data maniputaltion library for the python programming language, the tools of numpy operate on arrays of numbers. numpy.random is used for the generation of random numbers and integers and is important for data science, statistics and machine learning. When ever you want to generate an array of random numbers you need to use numpy.random. The numpy.random package has multiple functions to generate the random n-dimensional array for various distributions. This package help to clean up your data and organise it into an efficeint work flow.</p>"
   ]
  },
  {
   "cell_type": "markdown",
   "metadata": {},
   "source": [
    "## ***Use of Simple Random Data Function***"
   ]
  },
  {
   "cell_type": "markdown",
   "metadata": {},
   "source": [
    "There are tex simple random data function which can be seen from the image below.\n",
    "JPG?????????\n",
    "These are simple function that will return random number or integers when given a defined attribute such as size or shape.  I will look at the sample function, bytes function and randint function in the simple category."
   ]
  },
  {
   "cell_type": "markdown",
   "metadata": {},
   "source": [
    "The random_sample function if not defined give just one random floating number as per first input and output below.  The sectond input asks for 5 random floating point numbers."
   ]
  },
  {
   "cell_type": "code",
   "execution_count": 1,
   "metadata": {},
   "outputs": [
    {
     "data": {
      "text/plain": [
       "0.8735204466198936"
      ]
     },
     "execution_count": 1,
     "metadata": {},
     "output_type": "execute_result"
    }
   ],
   "source": [
    "import numpy as np\n",
    "np.random.random_sample ()"
   ]
  },
  {
   "cell_type": "code",
   "execution_count": 2,
   "metadata": {},
   "outputs": [
    {
     "data": {
      "text/plain": [
       "array([0.17469   , 0.70411434, 0.9649365 , 0.84995394, 0.76964204,\n",
       "       0.63753779])"
      ]
     },
     "execution_count": 2,
     "metadata": {},
     "output_type": "execute_result"
    }
   ],
   "source": [
    "np.random.random_sample(6)"
   ]
  },
  {
   "cell_type": "markdown",
   "metadata": {},
   "source": [
    "Below is hte bytes function this gives randowm bytes when the length is requested.  You can see what is returned for 20 and 100 below."
   ]
  },
  {
   "cell_type": "code",
   "execution_count": 3,
   "metadata": {},
   "outputs": [
    {
     "data": {
      "text/plain": [
       "b'\\xe1\\x8b\\xf5\\x87\\r\\x98\\xa8\\x0bHzy\\xe9\\xfb\\x03\\xbdr\\xcb\\xe3\\x8dO'"
      ]
     },
     "execution_count": 3,
     "metadata": {},
     "output_type": "execute_result"
    }
   ],
   "source": [
    "np.random.bytes(20)"
   ]
  },
  {
   "cell_type": "code",
   "execution_count": 4,
   "metadata": {},
   "outputs": [
    {
     "data": {
      "text/plain": [
       "b'<\\xfc\\x1c?\\xban\\xecxL\\xb4\\x8d\\xb7\\x98\\x9ebP\\x011\\xc5\\x16\\xf9\\xb2\\xdaV;a\\x16\\xeez\\xbf`I/\\xf7\\xcb\\x8c\\xb9\\xf5\\xad\\xa9\\xd5\\xaaZb\\xdb*\\x8b\\xa5\\x7f\\x97\\xc0\\x0e\\xac\\x9a3\\x15+\\xc1\\xd2>\\xbdZ\\r\\xa2\\xd7\\x035\\x7fk\\xdb0\\xbca\\xc8\\xc7\\x01\\x88\\xc7\\xda(\\xa1\\xe4\\xdfctL\\xf9=<\\x88(E\\x00\\xecF\\xc7x\\xb7\\xe4\\xdc'"
      ]
     },
     "execution_count": 4,
     "metadata": {},
     "output_type": "execute_result"
    }
   ],
   "source": [
    "np.random.bytes(100)"
   ]
  },
  {
   "cell_type": "markdown",
   "metadata": {},
   "source": [
    "The randint function gives random integers between 0 and 100 int he first examplet.  The second example asks for five(size) random integers between 0 and 19.  This can be changed to any size as is seen from the 3rd input below. "
   ]
  },
  {
   "cell_type": "code",
   "execution_count": 5,
   "metadata": {},
   "outputs": [
    {
     "data": {
      "text/plain": [
       "73"
      ]
     },
     "execution_count": 5,
     "metadata": {},
     "output_type": "execute_result"
    }
   ],
   "source": [
    "np.random.randint(100)"
   ]
  },
  {
   "cell_type": "code",
   "execution_count": 6,
   "metadata": {},
   "outputs": [
    {
     "data": {
      "text/plain": [
       "array([15,  4,  0, 18,  1])"
      ]
     },
     "execution_count": 6,
     "metadata": {},
     "output_type": "execute_result"
    }
   ],
   "source": [
    "np.random.randint (20, size = 5)"
   ]
  },
  {
   "cell_type": "code",
   "execution_count": 7,
   "metadata": {},
   "outputs": [
    {
     "data": {
      "text/plain": [
       "array([46, 37, 87, 22, 16, 81, 28,  0,  3, 64, 23, 79, 35, 36, 36, 67, 86,\n",
       "       51, 98,  7, 68, 78, 68, 43, 24, 27, 70, 91, 53, 92, 90, 17, 74, 54,\n",
       "       39, 64, 89, 19, 43, 92, 77, 54,  8,  4, 70, 71,  8,  3, 55, 81, 67,\n",
       "       98, 96, 33, 42, 79, 30, 25, 68, 29, 44, 88, 60, 30, 76])"
      ]
     },
     "execution_count": 7,
     "metadata": {},
     "output_type": "execute_result"
    }
   ],
   "source": [
    "np.random.randint(100, size = 65)"
   ]
  },
  {
   "cell_type": "code",
   "execution_count": null,
   "metadata": {},
   "outputs": [],
   "source": []
  }
 ],
 "metadata": {
  "kernelspec": {
   "display_name": "Python 3",
   "language": "python",
   "name": "python3"
  },
  "language_info": {
   "codemirror_mode": {
    "name": "ipython",
    "version": 3
   },
   "file_extension": ".py",
   "mimetype": "text/x-python",
   "name": "python",
   "nbconvert_exporter": "python",
   "pygments_lexer": "ipython3",
   "version": "3.7.7"
  }
 },
 "nbformat": 4,
 "nbformat_minor": 4
}
